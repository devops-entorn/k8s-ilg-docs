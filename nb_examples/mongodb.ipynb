{
 "cells": [
  {
   "cell_type": "markdown",
   "id": "c93979b1-4a6f-4f98-a067-60d75d9e1a6d",
   "metadata": {},
   "source": [
    "## Instruccions"
   ]
  },
  {
   "cell_type": "markdown",
   "id": "07c9cc53-9dd9-4ba4-9515-049b5403298d",
   "metadata": {},
   "source": [
    "> ``Recorda d'arrencar el servidor MongoDB perquè aquest notebook s'hi pugui connectar``.\n",
    "\n",
    "Pots arrencar el servidor mongodb amb la següent comanda:\n",
    "\n",
    "```bash\n",
    "mongo-start\n",
    "```\n",
    "\n",
    "Pots aturar el servidor mongodb amb la següent comanda:\n",
    "\n",
    "```bash\n",
    "mongo-stop\n",
    "```"
   ]
  },
  {
   "cell_type": "markdown",
   "id": "2ea0896d-e59c-43ba-b510-0a067adedf30",
   "metadata": {},
   "source": [
    "## Sample datasets\n",
    "\n",
    "En el següent enllaç podeu trobar exemples de bases de dades per a mongodb:\n",
    "\n",
    "[Sample datasets](https://github.com/neelabalan/mongodb-sample-dataset)"
   ]
  },
  {
   "cell_type": "markdown",
   "id": "a5d0499e-c3e4-4cc1-9761-0135004378b1",
   "metadata": {},
   "source": [
    "## Exemples d'ús d'un notebook IMongo"
   ]
  },
  {
   "cell_type": "code",
   "execution_count": 1,
   "id": "6c0f7760-2d97-4616-9a16-f33cd4bac4d4",
   "metadata": {},
   "outputs": [
    {
     "name": "Output",
     "output_type": "stream",
     "text": [
      "admin     0.000GB\n",
      "config    0.000GB\n",
      "local     0.000GB\n",
      "test      0.000GB\n",
      "training  0.059GB"
     ]
    }
   ],
   "source": [
    "show dbs;"
   ]
  },
  {
   "cell_type": "code",
   "execution_count": 2,
   "id": "9ac79996-eda1-42fd-a205-c6ab41ee37b7",
   "metadata": {},
   "outputs": [
    {
     "name": "Output",
     "output_type": "stream",
     "text": [
      "switched to db training"
     ]
    }
   ],
   "source": [
    "use training;\n"
   ]
  },
  {
   "cell_type": "code",
   "execution_count": 3,
   "id": "05624a0d-fbf3-48db-8aa4-a680ac2e766a",
   "metadata": {},
   "outputs": [
    {
     "name": "Output",
     "output_type": "stream",
     "text": [
      "training"
     ]
    }
   ],
   "source": [
    "db"
   ]
  },
  {
   "cell_type": "code",
   "execution_count": 4,
   "id": "324f7aec-962a-4fce-9ed1-f8533f1279e7",
   "metadata": {},
   "outputs": [
    {
     "name": "Output",
     "output_type": "stream",
     "text": [
      "admin     0.000GB\n",
      "config    0.000GB\n",
      "local     0.000GB\n",
      "test      0.000GB\n",
      "training  0.059GB"
     ]
    }
   ],
   "source": [
    "show databases;"
   ]
  },
  {
   "cell_type": "code",
   "execution_count": 5,
   "id": "3747b8e5-a307-4ee8-8672-726ca3d976dc",
   "metadata": {},
   "outputs": [
    {
     "name": "Output",
     "output_type": "stream",
     "text": [
      "companies\n",
      "grades\n",
      "inspections\n",
      "posts\n",
      "routes\n",
      "stories\n",
      "trips\n",
      "tweets\n",
      "zips"
     ]
    }
   ],
   "source": [
    "show collections"
   ]
  },
  {
   "cell_type": "code",
   "execution_count": 6,
   "id": "b9a96c91-d144-458f-9e02-99a04fd9d268",
   "metadata": {},
   "outputs": [
    {
     "name": "Output",
     "output_type": "stream",
     "text": [
      "{\n",
      "\t\"_id\" : ObjectId(\"5c8eccc1caa187d17ca6ed1f\"),\n",
      "\t\"city\" : \"ADAMSVILLE\",\n",
      "\t\"zip\" : \"35005\",\n",
      "\t\"loc\" : {\n",
      "\t\t\"y\" : 33.588437,\n",
      "\t\t\"x\" : 86.959727\n",
      "\t},\n",
      "\t\"pop\" : 10616,\n",
      "\t\"state\" : \"AL\"\n",
      "}"
     ]
    }
   ],
   "source": [
    "db.zips.findOne()"
   ]
  },
  {
   "cell_type": "code",
   "execution_count": null,
   "id": "bd194df4-fb86-4890-b936-a00ef2219c21",
   "metadata": {},
   "outputs": [],
   "source": []
  }
 ],
 "metadata": {
  "kernelspec": {
   "display_name": "IMongo",
   "language": "",
   "name": "imongo"
  },
  "language_info": {
   "codemirror_mode": "shell",
   "file_extension": ".js",
   "mimetype": "text/x-mongodb",
   "name": "javascript"
  },
  "toc-autonumbering": false
 },
 "nbformat": 4,
 "nbformat_minor": 5
}
