{
 "cells": [
  {
   "cell_type": "markdown",
   "id": "164b9664-5297-46a4-a85d-8c153733fa1f",
   "metadata": {},
   "source": [
    "# Serveis docker disponibles (v1.0)"
   ]
  },
  {
   "cell_type": "markdown",
   "id": "979ed74d-8d37-49de-8f69-1cabb140d9fa",
   "metadata": {},
   "source": [
    "Les següents comandes ens permeten arrencar i aturar diferents serveis de bases de dades i alguns clients. \n",
    "\n",
    "Aquests serveis estan _dockeritzats_.\n",
    "\n",
    "> La primera vegada que s'arrenquen els serveis, docker descarregarà d'Internet les imatges corresponents. Això pot fer que, en aquesta primera vegada, el servei trigui una mica a arrencar.\n",
    "\n",
    "> Si el servei s'arrenca des del _Launcher_ de JupyterLab, en descarregar-se la imatge de docker es podria exhaurir el _timeout_ d'arrencada i retornar un error de tipus 500. Si això passa, simplement torneu a clicar la icona."
   ]
  },
  {
   "cell_type": "markdown",
   "id": "c2e85fc1-36f0-41de-9cd4-c99e81e4572c",
   "metadata": {},
   "source": [
    "**Important**: \n",
    "\n",
    "- Tots dels serveis docker preinstal·lats es poden arrencar des del terminal, i molts (no tots) es poden arrencar també clicant a la icona corresponent del _Launcher_ de JupyterLab.\n",
    "\n",
    "- Si heu arrencat un servei clicant la icona del _Launcher_, i després l'atureu via terminal, ja no podreu accedir-hi des del _Launcher_ (us retornarà un error 500). La solució és arrencar de nou el servei des del terminal i ja hi podreu accedir clicant a la icona.\n",
    "\n",
    "- Tots els serveis docker es poden aturar des del terminal."
   ]
  },
  {
   "cell_type": "markdown",
   "id": "a71da222-0278-4909-a126-894263eae45f",
   "metadata": {
    "toc-hr-collapsed": true
   },
   "source": [
    "## Tomcat"
   ]
  },
  {
   "cell_type": "markdown",
   "id": "c2510b66-c53b-4b83-986c-bdb0690ed528",
   "metadata": {},
   "source": [
    "```Tomcat és un servidor d'aplicacions web Java```\n",
    "\n",
    "**Amb Tomcat podeu desplegar aplicacions web fetes amb Java EE, o qualsevol bastiment basat en Java, com ara Spring, Quarkus, etc.**\n",
    "\n",
    "\n",
    "**Tomcat 10:** Per a aplicacions web usant Java EE9 en endavant.\n",
    "\n",
    "**Tomcat 9:** Per a aplicacions web usant Java EE8 i anteriors.\n",
    "\n",
    "> **Les aplicacions web desenvolupades amb Spring s'executen amb Tomcat 9**."
   ]
  },
  {
   "cell_type": "markdown",
   "id": "ba6a629b-0d38-4e95-afd6-7e5ea280b4f8",
   "metadata": {},
   "source": [
    "#### Com desplegar una aplicació web amb Tomcat?\n",
    "\n",
    "Un cop hagueu desenvolupat l'aplicació web (amb Spring, per exemple) haureu de generar el corresponent fitxer de distribució de tipus ```war``` (que vol dir _web archive_) i copiar-lo al directori ```tomcat_webapps```. No cal fer res més.\n",
    "\n",
    "> Hi ha dos tipus de fitxers de distribució: ``jar`` i ``war``. Per a desplegar una aplicació web java amb Tomcat heu de fer servir ``war``.\n",
    "\n",
    "Més informació aquí:\n",
    "\n",
    "[How to deploy Spring WAR file to Tomcat](https://www.baeldung.com/tomcat-deploy-war)\n",
    "\n",
    "A vegades podrem necessitar afegir fitxers JAR a la nostra aplicació web, com ara un driver JDBC. En el següent enllaç ens expliquen com fer-ho correctament:\n",
    "\n",
    "[How to deploy a JAR file to Tomcat the right way](https://www.theserverside.com/blog/Coffee-Talk-Java-News-Stories-and-Opinions/How-to-deploy-a-JAR-file-to-Tomcat-the-right-way)"
   ]
  },
  {
   "cell_type": "markdown",
   "id": "43e544ee-a1c9-4761-a538-4d93f2e8ca63",
   "metadata": {},
   "source": [
    "#### Com accedir a una aplicació web desplegada amb Tomcat?\n",
    "\n",
    "Cliqueu a la icona de ``Tomcat 9``. Quan s'obri el Tomcat a una nova pestanya, cliqueu a **Manager App** (a la dreta). Accedireu a la llista d'aplicacions desplegades: simplement cliqueu l'enllaç de la vostra aplicació.\n",
    "\n",
    "**Nota**: per a accedir a **Manager App** us demanarà credencials: admin/admin."
   ]
  },
  {
   "cell_type": "markdown",
   "id": "8d08ec53-7f42-4b40-b961-96030f6d835a",
   "metadata": {},
   "source": [
    "#### Comandes"
   ]
  },
  {
   "cell_type": "code",
   "execution_count": 3,
   "id": "dfd5440f-63af-41ff-97ed-93f42308c861",
   "metadata": {},
   "outputs": [
    {
     "name": "stdout",
     "output_type": "stream",
     "text": [
      "Network dbnet already exists.\n",
      "Creating volume \"tomcat9_webapps\" with local driver\n",
      "Creating tomcat9_container ... \n",
      "\u001b[1Bting tomcat9_container ... \u001b[32mdone\u001b[0m\n"
     ]
    }
   ],
   "source": [
    "# Arrenca tomcat 9\n",
    "tc9start"
   ]
  },
  {
   "cell_type": "code",
   "execution_count": 4,
   "id": "3e31d191-ef1c-4fc3-a991-c25d2f272e71",
   "metadata": {},
   "outputs": [
    {
     "name": "stdout",
     "output_type": "stream",
     "text": [
      "\u001b[33mWARNING\u001b[0m: The net variable is not set. Defaulting to a blank string.\n",
      "Stopping tomcat9_container ... \n",
      "\u001b[1BRemoving tomcat9_container ... mdone\u001b[0m\n",
      "\u001b[1BNetwork default is external, skipping[0m\n",
      "\n"
     ]
    }
   ],
   "source": [
    "# Atura tomcat 9\n",
    "tc9stop"
   ]
  },
  {
   "cell_type": "code",
   "execution_count": 5,
   "id": "43997b27-93c1-4f16-a40f-c510af5d5d23",
   "metadata": {},
   "outputs": [
    {
     "name": "stdout",
     "output_type": "stream",
     "text": [
      "\n"
     ]
    }
   ],
   "source": [
    "# Arrenca tomcat 10\n",
    "# tc10start"
   ]
  },
  {
   "cell_type": "code",
   "execution_count": 6,
   "id": "51fe3ca3-b3ff-4946-a203-4723a3b75b77",
   "metadata": {},
   "outputs": [
    {
     "name": "stdout",
     "output_type": "stream",
     "text": [
      "\n"
     ]
    }
   ],
   "source": [
    "# Atura tomcat 10\n",
    "# tc10stop"
   ]
  },
  {
   "cell_type": "markdown",
   "id": "cd7587a2-05ca-46b1-bbe7-811e3b916852",
   "metadata": {
    "tags": [],
    "toc-hr-collapsed": true
   },
   "source": [
    "## PostgreSQL i pgadmin"
   ]
  },
  {
   "cell_type": "markdown",
   "id": "566e38aa-7d8a-4a4c-b26c-3db467b97ba1",
   "metadata": {},
   "source": [
    "#### Dades de connexió"
   ]
  },
  {
   "cell_type": "markdown",
   "id": "8c16414f-8182-41db-aa4a-c8d057bbb9ea",
   "metadata": {},
   "source": [
    "#### PostgreSQL\n",
    "\n",
    "El nom d'usuari inicial de PostgreSQL és ``username``, essent aquest el teu nom d'usuari de l'entorn.\n",
    "\n",
    "**No cal introduir contrasenya**. Si es vol, es pot usar la contrasenya ``admin``.\n",
    "\n",
    "Les dades de connexió són:\n",
    "\n",
    "- host des del terminal, vscode i intellij: localhost\n",
    "- host des dels clients pgadmin i dbgate: postgres\n",
    "- port: 5432"
   ]
  },
  {
   "cell_type": "markdown",
   "id": "715a3a0c-b67c-43ef-8169-a9228d0baf5e",
   "metadata": {},
   "source": [
    "#### pgadmin\n",
    "\n",
    "Per a entrar a pgadmin:\n",
    "\n",
    "- Nom d'usuari: username@ilg.cat\n",
    "- Contrasenya: admin\n",
    "\n",
    "(_username_ és el nom d'usuari de l'entorn).\n",
    "\n",
    "L'accés a pgadmin es fa clicant a la incona de PGadmin del _Launcher_ de JupyterLab."
   ]
  },
  {
   "cell_type": "markdown",
   "id": "40426e95-ec41-489e-af22-346777645825",
   "metadata": {},
   "source": [
    "#### Comandes"
   ]
  },
  {
   "cell_type": "code",
   "execution_count": 2,
   "id": "c5019b95-536e-4c25-98c8-18e6f34cbaf0",
   "metadata": {},
   "outputs": [
    {
     "name": "stdout",
     "output_type": "stream",
     "text": [
      "Network dbnet already exists.\n",
      "Starting postgres_container ... \n",
      "Recreating pgadmin_container ... \n",
      "\u001b[1Beating pgadmin_container ... \u001b[32mdone\u001b[0m\n"
     ]
    }
   ],
   "source": [
    "# Arrenca postgresql i pgadmin\n",
    "pgstart"
   ]
  },
  {
   "cell_type": "code",
   "execution_count": 14,
   "id": "1f057a23-e426-4748-8355-f036afb8d1ec",
   "metadata": {},
   "outputs": [
    {
     "name": "stdout",
     "output_type": "stream",
     "text": [
      "Stopping postgres_container ... \n",
      "Stopping pgadmin_container  ... \n",
      "\u001b[1BRemoving postgres_container ... mdone\u001b[0m\n",
      "Removing pgadmin_container  ... \n",
      "\u001b[2BRemoving network postgres_db\u001b[32mdone\u001b[0m\n",
      "\n"
     ]
    }
   ],
   "source": [
    "# Atura postgresql i pgadmin\n",
    "pgstop"
   ]
  },
  {
   "cell_type": "markdown",
   "id": "9096fa94-f990-485e-9b75-29d56da82559",
   "metadata": {},
   "source": [
    "#### Client CLI\n",
    "\n",
    "Client terminal psql (**a executar en el teminal, no al notebook**):\n",
    "\n",
    "```bash\n",
    "psql\n",
    "```"
   ]
  },
  {
   "cell_type": "markdown",
   "id": "61213bf0-1afe-450d-8eca-bac397e0df6f",
   "metadata": {},
   "source": [
    "#### Client DBGate\n",
    "\n",
    "> Aquest client web, ```DBGate``` està disponible directament des del _Launcher_ de JupyterLab.\n",
    "\n",
    "No cal introduir credencials.\n",
    "\n",
    "Amb aquest client web, entre moltes d'altres coses, podreu generar els diagrames ER de cada base de dades.\n",
    "\n",
    "> DBGate és compatible amb múltiples fonts de dades, entre les quals hi ha MySQL i MongoDB, a banda de PostgreSQL."
   ]
  },
  {
   "cell_type": "markdown",
   "id": "b47f69e0-ab45-48fb-8239-51839b20c303",
   "metadata": {
    "toc-hr-collapsed": true
   },
   "source": [
    "## MySql"
   ]
  },
  {
   "cell_type": "markdown",
   "id": "0f90c598-4089-408d-a105-dfa97f72a041",
   "metadata": {},
   "source": [
    "#### Dades de connexió"
   ]
  },
  {
   "cell_type": "markdown",
   "id": "5d60f20b-3432-40f6-9257-481b4ae3577f",
   "metadata": {},
   "source": [
    "El nom d'usuari inicial de MySql és el teu nom d'usuari d'aquest entorn.\n",
    "\n",
    "Si demana la contrasenya, aquesta és ``admin``.\n",
    "\n",
    "Les dades de connexió són:\n",
    "\n",
    "- host des del terminal, vscode i intellij: localhost\n",
    "- host des del client web dbgate: mysql\n",
    "- port: 3306"
   ]
  },
  {
   "cell_type": "markdown",
   "id": "4f15e55c-56ef-42ed-ab8d-f1e78d13ca20",
   "metadata": {},
   "source": [
    "#### Comandes"
   ]
  },
  {
   "cell_type": "code",
   "execution_count": 10,
   "id": "984211cb-a8be-4c65-b7b3-86c68933e60f",
   "metadata": {},
   "outputs": [
    {
     "name": "stdout",
     "output_type": "stream",
     "text": [
      "Network dbnet already exists.\n",
      "mysql_container is up-to-date\n",
      "\n"
     ]
    }
   ],
   "source": [
    "# Arrenca mysql\n",
    "mystart"
   ]
  },
  {
   "cell_type": "code",
   "execution_count": 11,
   "id": "b0b9da93-40ae-4685-a39c-9ac47ae73679",
   "metadata": {},
   "outputs": [
    {
     "name": "stdout",
     "output_type": "stream",
     "text": [
      "\u001b[33mWARNING\u001b[0m: The net variable is not set. Defaulting to a blank string.\n",
      "Stopping mysql_container ... \n",
      "\u001b[1BRemoving mysql_container ... mdone\u001b[0m\n",
      "\u001b[1BNetwork default is external, skippingm\n",
      "\n"
     ]
    }
   ],
   "source": [
    "# Atura mysql\n",
    "mystop"
   ]
  },
  {
   "cell_type": "markdown",
   "id": "cee96530-d9d5-4f8e-8e0e-e49b3af76171",
   "metadata": {},
   "source": [
    "#### Client CLI\n",
    "\n",
    "Client terminal psql (**a executar en el teminal, no al notebook**):\n",
    "\n",
    "```bash\n",
    "mysql\n",
    "```"
   ]
  },
  {
   "cell_type": "markdown",
   "id": "54655c9c-ab31-412b-bea3-56ee8ac0a359",
   "metadata": {
    "toc-hr-collapsed": true
   },
   "source": [
    "## MongoDB"
   ]
  },
  {
   "cell_type": "markdown",
   "id": "ad422e59-05f5-40ed-b957-1cf2924e4a47",
   "metadata": {},
   "source": [
    "#### Dades de connexió\n",
    "\n",
    "Mongodb està configurat perquè ens hi puguem connectar sense credencials.\n",
    "\n",
    "Les dades de connexió són:\n",
    "\n",
    "- host des del terminal, vscode i intellij: localhost\n",
    "- host des del client web dbgate: mongodb\n",
    "- port: 27017"
   ]
  },
  {
   "cell_type": "markdown",
   "id": "1d26818a-8306-4923-bfa8-a91dd2e6b63d",
   "metadata": {},
   "source": [
    "#### Comandes"
   ]
  },
  {
   "cell_type": "code",
   "execution_count": 1,
   "id": "ec54f449-7afb-4f04-9dc3-32035c1e674d",
   "metadata": {},
   "outputs": [
    {
     "name": "stdout",
     "output_type": "stream",
     "text": [
      "Network dbnet already exists.\n",
      "Creating mongodb_container ... \n",
      "\u001b[1Bting mongodb_container ... \u001b[32mdone\u001b[0m\n"
     ]
    }
   ],
   "source": [
    "# Per a arrencar mongodb\n",
    "mongo-start"
   ]
  },
  {
   "cell_type": "code",
   "execution_count": 2,
   "id": "0ce036ea-e588-4f24-8bdf-ec225ead211e",
   "metadata": {},
   "outputs": [
    {
     "name": "stdout",
     "output_type": "stream",
     "text": [
      "\u001b[33mWARNING\u001b[0m: The net variable is not set. Defaulting to a blank string.\n",
      "Stopping mongodb_container ... \n",
      "\u001b[1BRemoving mongodb_container ... mdone\u001b[0m\n",
      "\u001b[1BNetwork default is external, skipping[0m\n",
      "\n"
     ]
    }
   ],
   "source": [
    "# Per a aturar mongodb\n",
    "mongo-stop"
   ]
  },
  {
   "cell_type": "code",
   "execution_count": 6,
   "id": "237c937c-db7c-4c91-a64f-4a03c5740c98",
   "metadata": {},
   "outputs": [
    {
     "name": "stdout",
     "output_type": "stream",
     "text": [
      "2022-02-25T11:13:31.132+0000\tconnected to: mongodb://localhost/\n",
      "2022-02-25T11:13:31.134+0000\tdropping: test.books\n",
      "2022-02-25T11:13:31.243+0000\t431 document(s) imported successfully. 0 document(s) failed to import.\n",
      "\n"
     ]
    }
   ],
   "source": [
    "# Exemple d'importació de dades d'un fitxer json\n",
    "\n",
    "mongoimport --db test --collection books \\\n",
    "          --drop --file ./books.json"
   ]
  },
  {
   "cell_type": "markdown",
   "id": "9a4dd0ac-31e5-4e9d-ab60-3e0485e7eee2",
   "metadata": {},
   "source": [
    "#### Exemple de ```mongoimport``` fent ús de credencials\n",
    "\n",
    "```bash\n",
    "mongoimport --db test --collection inventory \\\n",
    "          --authenticationDatabase admin --username <user> --password <password> \\\n",
    "          --drop --file ruta_a/inventory.crud.json\n",
    "```"
   ]
  },
  {
   "cell_type": "markdown",
   "id": "f4a3c7e2-51a5-4c02-b358-dc221c8195f6",
   "metadata": {},
   "source": [
    "Més informació sobre ```mongoimport``` en aquest [tutorial](https://www.mongodbtutorial.org/mongodb-tools/mongoimport/)."
   ]
  },
  {
   "cell_type": "markdown",
   "id": "a50a0458-cf95-42aa-afb2-0f08b2fbb1f5",
   "metadata": {},
   "source": [
    "#### Client CLI\n",
    "\n",
    "Client terminal mongo shell (**a executar en el teminal, no al notebook**):\n",
    "\n",
    "```bash\n",
    "mongosh\n",
    "```"
   ]
  },
  {
   "cell_type": "markdown",
   "id": "1f8d2cb2-9d12-4dde-9202-e0f547f7fa31",
   "metadata": {},
   "source": [
    "#### Client Notebook IMongo\n",
    "\n",
    "> Hi ha un **notebook** anomenat ``IMongo`` que connecta amb el servidor mongodb i permet visualitzar les dades amb comandes javascript de mongodb.\n",
    "\n",
    "Per a usar el notebook _IMongo_ **cal que, prèviament, s'hagi arrencat el servidor mongodb**."
   ]
  },
  {
   "cell_type": "markdown",
   "id": "ee3d31f3-6deb-47c3-b970-29aff21be6ef",
   "metadata": {},
   "source": [
    "#### Sample databases\n",
    "\n",
    "[Sample databases for MongoDB](https://github.com/neelabalan/mongodb-sample-dataset)"
   ]
  },
  {
   "cell_type": "markdown",
   "id": "81e07cae-e6e6-471b-93f4-644ec2a82b52",
   "metadata": {
    "toc-hr-collapsed": true
   },
   "source": [
    "## DBGate"
   ]
  },
  {
   "cell_type": "markdown",
   "id": "24deecd8-3661-4a86-9f12-11b7e8282620",
   "metadata": {},
   "source": [
    "> **dbgate** és un client web que pot connectar-se a diferents tipus de bases de dades, entre elles **postgresql**, **mysql** i **mongodb**.\n",
    "\n",
    "Podeu trobar més informació a la seva web: [dbgate](https://dbgate.org/)"
   ]
  },
  {
   "cell_type": "markdown",
   "id": "d4763344-39eb-4856-b5db-ddc7e42f6077",
   "metadata": {},
   "source": [
    "#### Dades de connexió\n",
    "\n",
    "Per a connectar-se a postgresql, mysql o mongodb amb _dbgate_ heu de fer servir els següents valors de **host** i **port**:\n",
    "\n",
    "- Per a **postgresql**: host = ``postgres``, port = 5432\n",
    "- Per a **mysql**: host = ``mysql``, port = 3306\n",
    "- Per a **mongodb**: host = ``mongodb``, port = 27017"
   ]
  },
  {
   "cell_type": "markdown",
   "id": "2a643f6b-ba44-4629-8e31-fb1b0ab6d846",
   "metadata": {},
   "source": [
    "#### Comandes"
   ]
  },
  {
   "cell_type": "code",
   "execution_count": 17,
   "id": "fc1f1a9e-f3cd-44c1-8eb2-22cabe2b87fb",
   "metadata": {},
   "outputs": [
    {
     "name": "stdout",
     "output_type": "stream",
     "text": [
      "Network dbnet already exists.\n",
      "Creating dbgate_container ... \n",
      "\u001b[1Bting dbgate_container ... \u001b[32mdone\u001b[0m\n"
     ]
    }
   ],
   "source": [
    "# Per a arrencar dbgate\n",
    "dbgstart"
   ]
  },
  {
   "cell_type": "code",
   "execution_count": 16,
   "id": "a74c0a64-a1a0-4f6a-a555-f7ec2df2057d",
   "metadata": {},
   "outputs": [
    {
     "name": "stdout",
     "output_type": "stream",
     "text": [
      "\u001b[33mWARNING\u001b[0m: The net variable is not set. Defaulting to a blank string.\n",
      "Stopping dbgate_container ... \n",
      "\u001b[1BRemoving dbgate_container ... mdone\u001b[0m\n",
      "\u001b[1BNetwork default is external, skipping0m\n",
      "\n"
     ]
    }
   ],
   "source": [
    "# Per a aturar dbgate\n",
    "dbgstop"
   ]
  },
  {
   "cell_type": "markdown",
   "id": "54c86040-c9b9-4629-af48-67acce29f1f9",
   "metadata": {},
   "source": [
    "#### Launcher\n",
    "\n",
    "> Si arrenqueu _dbgate_ des del Launcher, i després l'atureu des del terminal, **haureu de tornar-lo a arrencar des del terminal** abans d'accedir-hi des del Launcher, sinó us retornarà un error 500."
   ]
  },
  {
   "cell_type": "markdown",
   "id": "6bdf6e80-9fe1-4531-85c2-616743ff5424",
   "metadata": {
    "toc-hr-collapsed": true
   },
   "source": [
    "## Portainer (docker web client)"
   ]
  },
  {
   "cell_type": "markdown",
   "id": "7fdb1af8-1e61-4534-8928-f5c547640913",
   "metadata": {},
   "source": [
    "[portainer](https://www.portainer.io/) és un **client web** per a docker i kubernetes.\n",
    "\n",
    "Està disponible al _Launcher_ de JupỳterLab."
   ]
  },
  {
   "cell_type": "markdown",
   "id": "cecfd221-5471-466e-bf5b-952eac4e2b14",
   "metadata": {},
   "source": [
    "#### Credencials\n",
    "\n",
    "- Nom d'usuari: admin\n",
    "\n",
    "- Contrasenya: admin"
   ]
  },
  {
   "cell_type": "markdown",
   "id": "2ec709a8-d349-40a8-a516-adff9072cc11",
   "metadata": {},
   "source": [
    "#### Comandes"
   ]
  },
  {
   "cell_type": "code",
   "execution_count": 3,
   "id": "2177f6cf-3879-45ce-8ef3-e8dddce0e973",
   "metadata": {},
   "outputs": [
    {
     "name": "stdout",
     "output_type": "stream",
     "text": [
      "Network dbnet already exists.\n",
      "portainer_container is up-to-date\n",
      "\n"
     ]
    }
   ],
   "source": [
    "# Per a arrencar portainer\n",
    "portainerstart"
   ]
  },
  {
   "cell_type": "code",
   "execution_count": 4,
   "id": "3e8a4054-fd7e-4f11-849e-b18cbaaf27bf",
   "metadata": {},
   "outputs": [
    {
     "name": "stdout",
     "output_type": "stream",
     "text": [
      "\u001b[33mWARNING\u001b[0m: The net variable is not set. Defaulting to a blank string.\n",
      "Stopping portainer_container ... \n",
      "\u001b[1BRemoving portainer_container ... mdone\u001b[0m\n",
      "\u001b[1BNetwork default is external, skippinge\u001b[0m\n",
      "\n"
     ]
    }
   ],
   "source": [
    "# Per a aturar portainer\n",
    "portainerstop"
   ]
  },
  {
   "cell_type": "markdown",
   "id": "437146e0-dc2b-4840-aeb6-86ac3d1ba9b6",
   "metadata": {
    "toc-hr-collapsed": true
   },
   "source": [
    "## Annexe: algunes comandes bàsiques docker"
   ]
  },
  {
   "cell_type": "code",
   "execution_count": 1,
   "id": "f6d6209a-60da-419f-9ab6-857eb37533a7",
   "metadata": {},
   "outputs": [
    {
     "name": "stdout",
     "output_type": "stream",
     "text": [
      "CONTAINER ID   IMAGE     COMMAND   CREATED   STATUS    PORTS     NAMES\n",
      "\n"
     ]
    }
   ],
   "source": [
    "# Per a llistar contenidors en execució\n",
    "docker ps"
   ]
  },
  {
   "cell_type": "code",
   "execution_count": 2,
   "id": "b46342c6-fb9c-4ee1-b912-170a5c2d5b12",
   "metadata": {},
   "outputs": [
    {
     "name": "stdout",
     "output_type": "stream",
     "text": [
      "CONTAINER ID   IMAGE         COMMAND                  CREATED       STATUS                     PORTS                               NAMES\n",
      "dd6fc8e1fee6   mysql_mysql   \"docker-entrypoint.s…\"   5 hours ago   Exited (255) 2 hours ago   0.0.0.0:3306->3306/tcp, 33060/tcp   mysql_container\n",
      "\n"
     ]
    }
   ],
   "source": [
    "# Per a llistar tots els contenidors (en execució i aturats)\n",
    "docker ps -a"
   ]
  },
  {
   "cell_type": "code",
   "execution_count": 4,
   "id": "627a9307-f096-4584-bf2a-7ee3a02f1ae4",
   "metadata": {},
   "outputs": [
    {
     "name": "stdout",
     "output_type": "stream",
     "text": [
      "\n"
     ]
    }
   ],
   "source": [
    "# Per a arrencar un contenidor aturat\n",
    "# docker start container_id"
   ]
  },
  {
   "cell_type": "code",
   "execution_count": 7,
   "id": "e5dc50a3-54ac-45b8-b391-aff3552aebd0",
   "metadata": {},
   "outputs": [
    {
     "name": "stdout",
     "output_type": "stream",
     "text": [
      "\n"
     ]
    }
   ],
   "source": [
    "# Per a aturar un contenidor en execució\n",
    "# docker stop container_id"
   ]
  },
  {
   "cell_type": "code",
   "execution_count": 6,
   "id": "1393ed09-8f61-4507-9ef0-d7985e202267",
   "metadata": {},
   "outputs": [
    {
     "name": "stdout",
     "output_type": "stream",
     "text": [
      "\n"
     ]
    }
   ],
   "source": [
    "# Per a eliminar un contenidor aturat\n",
    "# docker rm container_id\n",
    "\n"
   ]
  },
  {
   "cell_type": "code",
   "execution_count": 1,
   "id": "6cb2a88f-32f7-42b2-9ab2-764abecf57d9",
   "metadata": {},
   "outputs": [
    {
     "name": "stdout",
     "output_type": "stream",
     "text": [
      "DRIVER    VOLUME NAME\n",
      "local     4d75fa549f47c1d25eece672c9da721aea2cc601167a0170c95fc161da649ec8\n",
      "local     8d3f180f08479faffd0f5ebad0503951bd25f4a93c74a14b82b7598d57b3913b\n",
      "local     9a43d79d8924aa0e08ffe4753f78dde2873aa64570d002273bb56d47cdc5eeb7\n",
      "local     025df98061c8d99b4b98ac7a19e3fab3567e7159f03a5c214f50fef0b570e77f\n",
      "local     53a5d563e37eb8d0030cbdcd089eee69ada1b0f7ebebb171514f39b8efc6e71d\n",
      "local     419e76bdec804432f7a80e1693ffea6045b9cf802aa64e7fcc06cfb3955f1dee\n",
      "local     55199ef24de0aee6a580d1a9a12a123b2087bf00d10c0d942704363667c0dd78\n",
      "local     bc5bc1861155daedb321931ed5567eaffe28d58f78a7eab27978560fdb8aa03e\n",
      "local     bc545ef816acde6aa3835e2d510271bf56c13a1304ae78b8067e3800eeb3f77c\n",
      "local     dbgate_dbgate_data\n",
      "local     postgres_pgadmin_config\n",
      "local     postgres_pgadmin_data\n",
      "local     postgres_postgres_data\n",
      "local     tomcat9_webapps\n",
      "\n"
     ]
    }
   ],
   "source": [
    "# Per a llistar tots els volums\n",
    "docker volume list"
   ]
  },
  {
   "cell_type": "code",
   "execution_count": 1,
   "id": "d9eb8ee6-ae0b-435c-a268-0b6428e9d825",
   "metadata": {},
   "outputs": [
    {
     "name": "stdout",
     "output_type": "stream",
     "text": [
      "\n"
     ]
    }
   ],
   "source": [
    "# Per a eliminar TOTS els volumes (compte !!)\n",
    "# docker volume remove $(docker volume list | cut -d' ' -f 6)"
   ]
  },
  {
   "cell_type": "code",
   "execution_count": null,
   "id": "37c4f7c1-cb36-46ba-8275-652c5e57e41b",
   "metadata": {},
   "outputs": [],
   "source": []
  }
 ],
 "metadata": {
  "kernelspec": {
   "display_name": "Bash",
   "language": "bash",
   "name": "calysto_bash"
  },
  "language_info": {
   "file_extension": ".sh",
   "help_links": [
    {
     "text": "MetaKernel Magics",
     "url": "https://metakernel.readthedocs.io/en/latest/source/README.html"
    }
   ],
   "mimetype": "text/x-sh",
   "name": "bash",
   "version": "0.2.2"
  },
  "toc-autonumbering": false,
  "toc-showcode": true,
  "toc-showmarkdowntxt": false,
  "toc-showtags": false
 },
 "nbformat": 4,
 "nbformat_minor": 5
}
